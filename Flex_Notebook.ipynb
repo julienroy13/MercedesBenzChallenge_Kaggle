{
 "cells": [
  {
   "cell_type": "code",
   "execution_count": 14,
   "metadata": {
    "collapsed": false
   },
   "outputs": [
    {
     "name": "stdout",
     "output_type": "stream",
     "text": [
      "The autoreload extension is already loaded. To reload it, use:\n",
      "  %reload_ext autoreload\n"
     ]
    }
   ],
   "source": [
    "%load_ext autoreload\n",
    "%autoreload 2\n",
    "\n",
    "import numpy as np\n",
    "import cPickle as pickle\n",
    "import sklearn.metrics as skmetrics\n",
    "import csv\n",
    "import sys\n",
    "from NN import AutoEncoder as AE "
   ]
  },
  {
   "cell_type": "markdown",
   "metadata": {},
   "source": [
    "### Turn Data into all binary"
   ]
  },
  {
   "cell_type": "code",
   "execution_count": 3,
   "metadata": {
    "collapsed": false
   },
   "outputs": [
    {
     "name": "stdout",
     "output_type": "stream",
     "text": [
      "Y.shape : (4209L,)\n",
      "X.shape : (4209L, 376L)\n"
     ]
    }
   ],
   "source": [
    "with open('Data.pkl', 'rb') as f:\n",
    "            data = pickle.load(f)\n",
    "            X = data['X']\n",
    "            Y = data['Y']\n",
    "\n",
    "print(\"Y.shape : {0}\".format(Y.shape))\n",
    "print(\"X.shape : {0}\".format(X.shape))"
   ]
  },
  {
   "cell_type": "code",
   "execution_count": 4,
   "metadata": {
    "collapsed": false
   },
   "outputs": [
    {
     "name": "stdout",
     "output_type": "stream",
     "text": [
      "[55 28 51  7  4 34 12 25]\n",
      "[1 1 1 1 1 3 1 1]\n"
     ]
    }
   ],
   "source": [
    "maxes = np.max(X, axis = 0)[:8]\n",
    "print maxes\n",
    "\n",
    "mins = np.min(X, axis = 0)[:8]\n",
    "print mins"
   ]
  },
  {
   "cell_type": "code",
   "execution_count": 5,
   "metadata": {
    "collapsed": false
   },
   "outputs": [
    {
     "name": "stdout",
     "output_type": "stream",
     "text": [
      "(4209L, 584L)\n"
     ]
    }
   ],
   "source": [
    "one_hot_tables = []\n",
    "for i,m in enumerate(maxes):\n",
    "    current_table = np.zeros((X.shape[0], m))\n",
    "    \n",
    "    for j in range(X.shape[0]):\n",
    "        current_table[j, X[j,i]-1] = 1.0\n",
    "        \n",
    "    one_hot_tables.append(current_table)\n",
    "one_hot_tables.append(X[:,8:])\n",
    "one_hot_data = np.concatenate(one_hot_tables, axis=1)\n",
    "print one_hot_data.shape"
   ]
  },
  {
   "cell_type": "code",
   "execution_count": 6,
   "metadata": {
    "collapsed": false
   },
   "outputs": [],
   "source": [
    "with open('Data_OneHot.pkl', 'wb') as f:\n",
    "    pickle.dump({\"X\":one_hot_data,\"Y\":Y}, f)"
   ]
  },
  {
   "cell_type": "markdown",
   "metadata": {},
   "source": [
    "## Load Data"
   ]
  },
  {
   "cell_type": "code",
   "execution_count": 2,
   "metadata": {
    "collapsed": false
   },
   "outputs": [
    {
     "name": "stdout",
     "output_type": "stream",
     "text": [
      "X_train shape : (4000L, 584L)\n",
      "Y_train shape : (4000L, 1L)\n",
      "X_valid.shape : (209L, 584L)\n",
      "Y_valid shape : (209L, 1L)\n"
     ]
    }
   ],
   "source": [
    "with open('Data_OneHot.pkl', 'rb') as f:\n",
    "            data = pickle.load(f)\n",
    "            X = data['X']\n",
    "            Y = data['Y']\n",
    "\n",
    "\n",
    "#Shuffle data :\n",
    "data = np.concatenate([Y.reshape((Y.shape[0],1)),X], axis=1)\n",
    "np.random.shuffle(data)\n",
    "\n",
    "Y = data[:,0]\n",
    "Y=Y.reshape((Y.shape[0]),1)\n",
    "X = data[:,1:]\n",
    "\n",
    "x_train = X[:4000,:]\n",
    "y_train = Y[:4000]\n",
    "\n",
    "x_valid = X[4000:,:]\n",
    "y_valid = Y[4000:]\n",
    "\n",
    "\n",
    "print(\"X_train shape : {0}\".format(x_train.shape))\n",
    "print(\"Y_train shape : {0}\".format(y_train.shape))\n",
    "print(\"X_valid.shape : {0}\".format(x_valid.shape))\n",
    "print(\"Y_valid shape : {0}\".format(y_valid.shape))"
   ]
  },
  {
   "cell_type": "markdown",
   "metadata": {},
   "source": [
    "## Auto-encoder"
   ]
  },
  {
   "cell_type": "code",
   "execution_count": 5,
   "metadata": {
    "collapsed": false
   },
   "outputs": [],
   "source": [
    "n_units = [64, 16]\n",
    "ae_non_linearty = 'sigmoid'\n",
    "ae = AE.AutoEncoder(X.shape[1], n_units, ae_non_linearty, learning_rate=0.004, L2=0.001, p_drop=0.0)"
   ]
  },
  {
   "cell_type": "code",
   "execution_count": 6,
   "metadata": {
    "collapsed": false
   },
   "outputs": [
    {
     "name": "stdout",
     "output_type": "stream",
     "text": [
      "Initial valid cost: 146.533890\n",
      "\n",
      "Epoch 0\n",
      "Avg. train cost: 30.262960\n",
      "Avg. valid cost: 28.138475\n",
      "\n",
      "Epoch 10\n",
      "Avg. train cost: 8.896500\n",
      "Avg. valid cost: 9.045081\n",
      "\n",
      "Epoch 20\n",
      "Avg. train cost: 7.152565\n",
      "Avg. valid cost: 8.278563\n",
      "\n",
      "Epoch 30\n",
      "Avg. train cost: 6.593589\n",
      "Avg. valid cost: 8.214208\n",
      "\n",
      "Epoch 40\n",
      "Avg. train cost: 6.284857\n",
      "Avg. valid cost: 8.332643\n",
      "\n",
      "Epoch 49\n",
      "Avg. train cost: 6.123948\n",
      "Avg. valid cost: 8.477248\n",
      "\n",
      "Done\n",
      "Best epoch = 27\n",
      "With train cost = 6.713456\n",
      "With valid cost = 8.193463\n"
     ]
    }
   ],
   "source": [
    "n_samples = x_train.shape[0]\n",
    "n_dims = x_train.shape[1]\n",
    "mb_size = 64\n",
    "nb_iter_epochs = 500\n",
    "max_epochs = 50\n",
    "out_freq = 10\n",
    "best_ae_encoder_states = ae.get_encoder_states()\n",
    "best_valid_score = 1e100\n",
    "\n",
    "train_costs = []\n",
    "valid_costs = []\n",
    "\n",
    "x_rep, x_rec, cst = ae.test(x_valid, x_valid)\n",
    "print \"Initial valid cost: %f\" % cst\n",
    "print\n",
    "\n",
    "for epoch in range(max_epochs):\n",
    "    epoch_train_costs = []\n",
    "    \n",
    "    for it in range(nb_iter_epochs): \n",
    "        rand_indices = np.random.choice(n_samples, mb_size)\n",
    "        mb_x = x_train[rand_indices, :]\n",
    "        x_rep, x_rec, cst = ae.train(mb_x, mb_x)\n",
    "        epoch_train_costs.append(cst)\n",
    "    \n",
    "    train_costs.append(np.mean(epoch_train_costs))\n",
    "    \n",
    "    x_rep, x_rec, cst = ae.test(x_valid, x_valid)\n",
    "    valid_costs.append(cst)\n",
    "    \n",
    "    if cst < best_valid_score:\n",
    "        best_valid_score=cst\n",
    "        best_ae_encoder_states = ae.get_encoder_states()\n",
    "    \n",
    "    if epoch % out_freq == 0:\n",
    "        print \"Epoch %d\" % epoch\n",
    "        print \"Avg. train cost: %f\" % train_costs[-1]\n",
    "        print \"Avg. valid cost: %f\" % valid_costs[-1]\n",
    "        print\n",
    "\n",
    "print \"Epoch %d\" % epoch\n",
    "print \"Avg. train cost: %f\" % train_costs[-1]\n",
    "print \"Avg. valid cost: %f\" % valid_costs[-1]\n",
    "print\n",
    "print \"Done\"\n",
    "print \"Best epoch = %d\" % np.argmin(valid_costs)\n",
    "print \"With train cost = %f\" % train_costs[np.argmin(valid_costs)]\n",
    "print \"With valid cost = %f\" % valid_costs[np.argmin(valid_costs)]"
   ]
  },
  {
   "cell_type": "markdown",
   "metadata": {},
   "source": [
    "### Regressor"
   ]
  },
  {
   "cell_type": "code",
   "execution_count": 12,
   "metadata": {
    "collapsed": false
   },
   "outputs": [],
   "source": [
    "r_units = [64, 32]\n",
    "regressor_non_linearty = 'rectifier'\n",
    "aer = AE.AutoEncoderRegressor(X.shape[1], n_units, r_units, ae_non_linearty, regressor_non_linearty,\n",
    "                              learning_rate=0.004, L2=0.005, p_drop=0.05)\n",
    "\n",
    "#use pre-trained AE :\n",
    "aer.set_encoder_states(best_ae_encoder_states)"
   ]
  },
  {
   "cell_type": "code",
   "execution_count": 16,
   "metadata": {
    "collapsed": false,
    "scrolled": true
   },
   "outputs": [
    {
     "name": "stdout",
     "output_type": "stream",
     "text": [
      "Initial valid cost: 51.800343\n",
      "Initial valid R2 score: 0.588350\n",
      "\n"
     ]
    },
    {
     "ename": "KeyboardInterrupt",
     "evalue": "",
     "output_type": "error",
     "traceback": [
      "\u001b[1;31m---------------------------------------------------------------------------\u001b[0m",
      "\u001b[1;31mKeyboardInterrupt\u001b[0m                         Traceback (most recent call last)",
      "\u001b[1;32m<ipython-input-16-269175036932>\u001b[0m in \u001b[0;36m<module>\u001b[1;34m()\u001b[0m\n\u001b[0;32m     24\u001b[0m         \u001b[0mmb_x\u001b[0m \u001b[1;33m=\u001b[0m \u001b[0mx_train\u001b[0m\u001b[1;33m[\u001b[0m\u001b[0mrand_indices\u001b[0m\u001b[1;33m,\u001b[0m \u001b[1;33m:\u001b[0m\u001b[1;33m]\u001b[0m\u001b[1;33m\u001b[0m\u001b[0m\n\u001b[0;32m     25\u001b[0m         \u001b[0mmb_y\u001b[0m \u001b[1;33m=\u001b[0m \u001b[0my_train\u001b[0m\u001b[1;33m[\u001b[0m\u001b[0mrand_indices\u001b[0m\u001b[1;33m,\u001b[0m \u001b[1;33m:\u001b[0m\u001b[1;33m]\u001b[0m\u001b[1;33m\u001b[0m\u001b[0m\n\u001b[1;32m---> 26\u001b[1;33m         \u001b[0my_reg\u001b[0m\u001b[1;33m,\u001b[0m \u001b[0mx_rec\u001b[0m\u001b[1;33m,\u001b[0m \u001b[0mae_cst\u001b[0m\u001b[1;33m,\u001b[0m \u001b[0mregress_cst\u001b[0m\u001b[1;33m,\u001b[0m \u001b[0mcst\u001b[0m \u001b[1;33m=\u001b[0m \u001b[0maer\u001b[0m\u001b[1;33m.\u001b[0m\u001b[0mtrain\u001b[0m\u001b[1;33m(\u001b[0m\u001b[0mmb_x\u001b[0m\u001b[1;33m,\u001b[0m \u001b[0mmb_x\u001b[0m\u001b[1;33m,\u001b[0m \u001b[0mmb_y\u001b[0m\u001b[1;33m,\u001b[0m \u001b[0mrecon_ratio\u001b[0m\u001b[1;33m,\u001b[0m \u001b[1;36m1.0\u001b[0m\u001b[1;33m)\u001b[0m\u001b[1;33m\u001b[0m\u001b[0m\n\u001b[0m\u001b[0;32m     27\u001b[0m         \u001b[0mepoch_train_costs\u001b[0m\u001b[1;33m.\u001b[0m\u001b[0mappend\u001b[0m\u001b[1;33m(\u001b[0m\u001b[0mregress_cst\u001b[0m\u001b[1;33m)\u001b[0m\u001b[1;33m\u001b[0m\u001b[0m\n\u001b[0;32m     28\u001b[0m \u001b[1;33m\u001b[0m\u001b[0m\n",
      "\u001b[1;32mD:\\Anaconda\\lib\\site-packages\\theano\\compile\\function_module.pyc\u001b[0m in \u001b[0;36m__call__\u001b[1;34m(self, *args, **kwargs)\u001b[0m\n\u001b[0;32m    871\u001b[0m         \u001b[1;32mtry\u001b[0m\u001b[1;33m:\u001b[0m\u001b[1;33m\u001b[0m\u001b[0m\n\u001b[0;32m    872\u001b[0m             \u001b[0moutputs\u001b[0m \u001b[1;33m=\u001b[0m\u001b[0;31m\\\u001b[0m\u001b[1;33m\u001b[0m\u001b[0m\n\u001b[1;32m--> 873\u001b[1;33m                 \u001b[0mself\u001b[0m\u001b[1;33m.\u001b[0m\u001b[0mfn\u001b[0m\u001b[1;33m(\u001b[0m\u001b[1;33m)\u001b[0m \u001b[1;32mif\u001b[0m \u001b[0moutput_subset\u001b[0m \u001b[1;32mis\u001b[0m \u001b[0mNone\u001b[0m \u001b[1;32melse\u001b[0m\u001b[0;31m\\\u001b[0m\u001b[1;33m\u001b[0m\u001b[0m\n\u001b[0m\u001b[0;32m    874\u001b[0m                 \u001b[0mself\u001b[0m\u001b[1;33m.\u001b[0m\u001b[0mfn\u001b[0m\u001b[1;33m(\u001b[0m\u001b[0moutput_subset\u001b[0m\u001b[1;33m=\u001b[0m\u001b[0moutput_subset\u001b[0m\u001b[1;33m)\u001b[0m\u001b[1;33m\u001b[0m\u001b[0m\n\u001b[0;32m    875\u001b[0m         \u001b[1;32mexcept\u001b[0m \u001b[0mException\u001b[0m\u001b[1;33m:\u001b[0m\u001b[1;33m\u001b[0m\u001b[0m\n",
      "\u001b[1;31mKeyboardInterrupt\u001b[0m: "
     ]
    }
   ],
   "source": [
    "n_samples = x_train.shape[0]\n",
    "n_dims = x_train.shape[1]\n",
    "mb_size = 64\n",
    "nb_iter_epochs = 500\n",
    "max_epochs = 100\n",
    "out_freq = 10\n",
    "best_valid_score = 1e100\n",
    "recon_ratio = 0.1\n",
    "\n",
    "#We want to monitor REGRESSION cost here.\n",
    "train_costs = []\n",
    "valid_costs = []\n",
    "\n",
    "y_reg, x_rec, ae_cst, regress_cst, cst = aer.train(x_valid, x_valid, y_valid, recon_ratio, 0.0)\n",
    "print \"Initial valid cost: %f\" % regress_cst\n",
    "print \"Initial valid R2 score: %f\" % skmetrics.r2_score(y_valid,y_reg)\n",
    "print\n",
    "\n",
    "for epoch in range(max_epochs):\n",
    "    epoch_train_costs = []\n",
    "    \n",
    "    for it in range(nb_iter_epochs): \n",
    "        rand_indices = np.random.choice(n_samples, mb_size)\n",
    "        mb_x = x_train[rand_indices, :]\n",
    "        mb_y = y_train[rand_indices, :]\n",
    "        y_reg, x_rec, ae_cst, regress_cst, cst = aer.train(mb_x, mb_x, mb_y, recon_ratio, 1.0)\n",
    "        epoch_train_costs.append(regress_cst)\n",
    "    \n",
    "    train_costs.append(np.mean(epoch_train_costs))\n",
    "    \n",
    "    y_reg, x_rec, ae_cst, regress_cst, cst = aer.train(x_valid, x_valid, y_valid, recon_ratio, 0.0)\n",
    "    valid_costs.append(regress_cst)\n",
    "    \n",
    "    if regress_cst < best_valid_score:\n",
    "        best_valid_score=regress_cst\n",
    "        \n",
    "    if epoch % out_freq == 0:\n",
    "        print \"Epoch %d\" % epoch\n",
    "        print \"Avg. train cost: %f\" % train_costs[-1]\n",
    "        print \"Avg. valid cost: %f\" % valid_costs[-1]\n",
    "        print \"Valid R2 score: %f\" % skmetrics.r2_score(y_valid,y_reg)\n",
    "        print\n",
    "\n",
    "print \"Epoch %d\" % epoch\n",
    "print \"Avg. train cost: %f\" % train_costs[-1]\n",
    "print \"Avg. valid cost: %f\" % valid_costs[-1]\n",
    "print\n",
    "print \"Done\"\n",
    "print \"Best epoch = %d\" % np.argmin(valid_costs)\n",
    "print \"With train cost = %f\" % train_costs[np.argmin(valid_costs)]\n",
    "print \"With valid cost = %f\" % valid_costs[np.argmin(valid_costs)]"
   ]
  },
  {
   "cell_type": "code",
   "execution_count": 38,
   "metadata": {
    "collapsed": true
   },
   "outputs": [],
   "source": [
    "# Some notes...\n",
    "\n",
    "#TODO :\n",
    "# Targets: \n",
    "#   Standardize targets + linear output\n",
    "# Overfitting:\n",
    "#   Try Dropout (we overfit a lot on the regression)\n",
    "#   Try bigger recon_ratio\n",
    "#   Try to add some noise?\n",
    "# Go beyond MLP ?\n",
    "#   Could we do better than let's say this setup+spearmint optimization ?\n",
    "\n",
    "# AE:\n",
    "\n",
    "# A)\n",
    "# n_units = [64, 16], L2=0.001\n",
    "# Best epoch = 23\n",
    "# With train cost = 6.754955, 6.713456\n",
    "# With valid cost = 9.313946, 8.193463\n",
    "\n",
    "\n",
    "# REGRESSOR: \n",
    "# 1)\n",
    "# With A) + r_units = [32, 16], L2 = 0.01 learning_rate=0.004, L2=0.005, ratio =0.1, p_drop=0.0\n",
    "# Best epoch = 94\n",
    "# With train cost = 5.114531\n",
    "# With valid cost = 36.887135\n",
    "\n",
    "# 2)\n",
    "# With A) + r_units = [32, 16], L2 = 0.01 learning_rate=0.004, L2=0.005, ratio =0.1, p_drop=0.2\n",
    "# Best epoch = 49\n",
    "# With train cost = 77.319702\n",
    "# With valid cost = 52.567116\n",
    "\n",
    "# 3)\n",
    "# With A) + r_units = [64, 32], L2 = 0.01 learning_rate=0.004, L2=0.005, ratio =0.1, p_drop=0.1\n",
    "#Best epoch = 98\n",
    "#With train cost = 24.144192\n",
    "#With valid cost = 48.137314\n",
    "\n"
   ]
  },
  {
   "cell_type": "code",
   "execution_count": null,
   "metadata": {
    "collapsed": true
   },
   "outputs": [],
   "source": []
  }
 ],
 "metadata": {
  "kernelspec": {
   "display_name": "Python [Root]",
   "language": "python",
   "name": "Python [Root]"
  },
  "language_info": {
   "codemirror_mode": {
    "name": "ipython",
    "version": 2
   },
   "file_extension": ".py",
   "mimetype": "text/x-python",
   "name": "python",
   "nbconvert_exporter": "python",
   "pygments_lexer": "ipython2",
   "version": "2.7.12"
  },
  "nbpresent": {
   "slides": {},
   "themes": {
    "default": "6b4b2d60-309c-45ef-ba1f-7453d361ceae",
    "theme": {
     "6b4b2d60-309c-45ef-ba1f-7453d361ceae": {
      "backgrounds": {
       "dc7afa04-bf90-40b1-82a5-726e3cff5267": {
        "background-color": "31af15d2-7e15-44c5-ab5e-e04b16a89eff",
        "id": "dc7afa04-bf90-40b1-82a5-726e3cff5267"
       }
      },
      "id": "6b4b2d60-309c-45ef-ba1f-7453d361ceae",
      "palette": {
       "19cc588f-0593-49c9-9f4b-e4d7cc113b1c": {
        "id": "19cc588f-0593-49c9-9f4b-e4d7cc113b1c",
        "rgb": [
         252,
         252,
         252
        ]
       },
       "31af15d2-7e15-44c5-ab5e-e04b16a89eff": {
        "id": "31af15d2-7e15-44c5-ab5e-e04b16a89eff",
        "rgb": [
         68,
         68,
         68
        ]
       },
       "50f92c45-a630-455b-aec3-788680ec7410": {
        "id": "50f92c45-a630-455b-aec3-788680ec7410",
        "rgb": [
         197,
         226,
         245
        ]
       },
       "c5cc3653-2ee1-402a-aba2-7caae1da4f6c": {
        "id": "c5cc3653-2ee1-402a-aba2-7caae1da4f6c",
        "rgb": [
         43,
         126,
         184
        ]
       },
       "efa7f048-9acb-414c-8b04-a26811511a21": {
        "id": "efa7f048-9acb-414c-8b04-a26811511a21",
        "rgb": [
         25.118061674008803,
         73.60176211453744,
         107.4819383259912
        ]
       }
      },
      "rules": {
       "a": {
        "color": "19cc588f-0593-49c9-9f4b-e4d7cc113b1c"
       },
       "blockquote": {
        "color": "50f92c45-a630-455b-aec3-788680ec7410",
        "font-size": 3
       },
       "code": {
        "font-family": "Anonymous Pro"
       },
       "h1": {
        "color": "19cc588f-0593-49c9-9f4b-e4d7cc113b1c",
        "font-family": "Merriweather",
        "font-size": 8
       },
       "h2": {
        "color": "19cc588f-0593-49c9-9f4b-e4d7cc113b1c",
        "font-family": "Merriweather",
        "font-size": 6
       },
       "h3": {
        "color": "50f92c45-a630-455b-aec3-788680ec7410",
        "font-family": "Lato",
        "font-size": 5.5
       },
       "h4": {
        "color": "c5cc3653-2ee1-402a-aba2-7caae1da4f6c",
        "font-family": "Lato",
        "font-size": 5
       },
       "h5": {
        "font-family": "Lato"
       },
       "h6": {
        "font-family": "Lato"
       },
       "h7": {
        "font-family": "Lato"
       },
       "li": {
        "color": "50f92c45-a630-455b-aec3-788680ec7410",
        "font-size": 3.25
       },
       "pre": {
        "font-family": "Anonymous Pro",
        "font-size": 4
       }
      },
      "text-base": {
       "color": "19cc588f-0593-49c9-9f4b-e4d7cc113b1c",
       "font-family": "Lato",
       "font-size": 4
      }
     },
     "c6aafa87-2711-42d4-b629-346b1e7e1374": {
      "id": "c6aafa87-2711-42d4-b629-346b1e7e1374",
      "palette": {
       "19cc588f-0593-49c9-9f4b-e4d7cc113b1c": {
        "id": "19cc588f-0593-49c9-9f4b-e4d7cc113b1c",
        "rgb": [
         252,
         252,
         252
        ]
       },
       "31af15d2-7e15-44c5-ab5e-e04b16a89eff": {
        "id": "31af15d2-7e15-44c5-ab5e-e04b16a89eff",
        "rgb": [
         68,
         68,
         68
        ]
       },
       "50f92c45-a630-455b-aec3-788680ec7410": {
        "id": "50f92c45-a630-455b-aec3-788680ec7410",
        "rgb": [
         155,
         177,
         192
        ]
       },
       "c5cc3653-2ee1-402a-aba2-7caae1da4f6c": {
        "id": "c5cc3653-2ee1-402a-aba2-7caae1da4f6c",
        "rgb": [
         43,
         126,
         184
        ]
       },
       "efa7f048-9acb-414c-8b04-a26811511a21": {
        "id": "efa7f048-9acb-414c-8b04-a26811511a21",
        "rgb": [
         25.118061674008803,
         73.60176211453744,
         107.4819383259912
        ]
       }
      },
      "rules": {
       "blockquote": {
        "color": "50f92c45-a630-455b-aec3-788680ec7410"
       },
       "code": {
        "font-family": "Anonymous Pro"
       },
       "h1": {
        "color": "c5cc3653-2ee1-402a-aba2-7caae1da4f6c",
        "font-family": "Lato",
        "font-size": 8
       },
       "h2": {
        "color": "c5cc3653-2ee1-402a-aba2-7caae1da4f6c",
        "font-family": "Lato",
        "font-size": 6
       },
       "h3": {
        "color": "50f92c45-a630-455b-aec3-788680ec7410",
        "font-family": "Lato",
        "font-size": 5.5
       },
       "h4": {
        "color": "c5cc3653-2ee1-402a-aba2-7caae1da4f6c",
        "font-family": "Lato",
        "font-size": 5
       },
       "h5": {
        "font-family": "Lato"
       },
       "h6": {
        "font-family": "Lato"
       },
       "h7": {
        "font-family": "Lato"
       },
       "pre": {
        "font-family": "Anonymous Pro",
        "font-size": 4
       }
      },
      "text-base": {
       "font-family": "Merriweather",
       "font-size": 4
      }
     }
    }
   }
  }
 },
 "nbformat": 4,
 "nbformat_minor": 0
}
