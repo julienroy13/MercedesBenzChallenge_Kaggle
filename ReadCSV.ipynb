{
 "cells": [
  {
   "cell_type": "code",
   "execution_count": 9,
   "metadata": {
    "collapsed": false,
    "deletable": true,
    "editable": true
   },
   "outputs": [],
   "source": [
    "import numpy as np\n",
    "import pickle\n",
    "import csv\n",
    "import sys"
   ]
  },
  {
   "cell_type": "code",
   "execution_count": 10,
   "metadata": {
    "collapsed": false,
    "deletable": true,
    "editable": true
   },
   "outputs": [],
   "source": [
    "# Convert letter numerotation to numbers (Ex : \"D\"->4, \"AC\"->29)\n",
    "def letter2num(letters, zbase=False):\n",
    "    if letters in [\"0\",\"1\",\"2\",\"3\",\"4\",\"5\",\"6\",\"7\",\"8\",\"9\"]:\n",
    "        return letters\n",
    "    else:\n",
    "        letters = letters.upper()\n",
    "        res = 0\n",
    "        weight = len(letters) - 1\n",
    "        for i, c in enumerate(letters):\n",
    "            res += (ord(c) - 64) * 26**(weight - i)\n",
    "        if not zbase:\n",
    "            return res\n",
    "        return res - 1"
   ]
  },
  {
   "cell_type": "markdown",
   "metadata": {
    "deletable": true,
    "editable": true
   },
   "source": [
    "# Read train.csv file and convert categories into indexes"
   ]
  },
  {
   "cell_type": "code",
   "execution_count": 11,
   "metadata": {
    "collapsed": false,
    "deletable": true,
    "editable": true
   },
   "outputs": [],
   "source": [
    "with open('train.csv', 'r') as csvfile:\n",
    "    reader = csv.reader(csvfile)\n",
    "    firstTime = True\n",
    "    for row in reader:\n",
    "        if firstTime:\n",
    "            X = np.zeros(shape=(1, len(row)-2), dtype=np.int)\n",
    "            Y = np.zeros(shape=(1,), dtype=np.float)\n",
    "            firstTime = False\n",
    "            continue\n",
    "        dataRow = []\n",
    "        for i, element in enumerate(row):\n",
    "            if i == 0:\n",
    "                continue\n",
    "            if i == 1:\n",
    "                Y = np.append(Y, float(element))\n",
    "            if i in [2,3,4,5,6,7,8,9]:\n",
    "                dataRow.append(letter2num(element))\n",
    "            else:\n",
    "                if i > 9:\n",
    "                    dataRow.append(element)\n",
    "        X = np.concatenate((X, np.array([dataRow],dtype=np.int)), axis=0)"
   ]
  },
  {
   "cell_type": "markdown",
   "metadata": {
    "deletable": true,
    "editable": true
   },
   "source": [
    "### Save the data to .pkl"
   ]
  },
  {
   "cell_type": "code",
   "execution_count": 12,
   "metadata": {
    "collapsed": false,
    "deletable": true,
    "editable": true
   },
   "outputs": [
    {
     "name": "stdout",
     "output_type": "stream",
     "text": [
      "Y.shape : (4209,)\n",
      "X.shape : (4209, 376)\n"
     ]
    }
   ],
   "source": [
    "Y = Y[1:]\n",
    "X = X[1:]\n",
    "\n",
    "print(\"Y.shape : {0}\".format(Y.shape))\n",
    "print(\"X.shape : {0}\".format(X.shape))\n",
    "\n",
    "with open('Data.pkl', 'wb') as f:\n",
    "    pickle.dump({\"X\":X,\"Y\":Y}, f)"
   ]
  },
  {
   "cell_type": "markdown",
   "metadata": {
    "deletable": true,
    "editable": true
   },
   "source": [
    "### Load the data from .pkl"
   ]
  },
  {
   "cell_type": "code",
   "execution_count": 13,
   "metadata": {
    "collapsed": false,
    "deletable": true,
    "editable": true
   },
   "outputs": [
    {
     "name": "stdout",
     "output_type": "stream",
     "text": [
      "Y.shape : (4209,)\n",
      "X.shape : (4209, 376)\n"
     ]
    }
   ],
   "source": [
    "with open('Data.pkl', 'rb') as f:\n",
    "            data = pickle.load(f)\n",
    "            X = data['X']\n",
    "            Y = data['Y']\n",
    "\n",
    "print(\"Y.shape : {0}\".format(Y.shape))\n",
    "print(\"X.shape : {0}\".format(X.shape))"
   ]
  },
  {
   "cell_type": "markdown",
   "metadata": {
    "deletable": true,
    "editable": true
   },
   "source": [
    "# Change categories into one-hot vectors"
   ]
  },
  {
   "cell_type": "code",
   "execution_count": 14,
   "metadata": {
    "collapsed": false,
    "deletable": true,
    "editable": true
   },
   "outputs": [
    {
     "name": "stdout",
     "output_type": "stream",
     "text": [
      "(4209,)\n",
      "(4209, 584)\n"
     ]
    }
   ],
   "source": [
    "maxes = np.max(X, axis=0)[:8]\n",
    "tables = []\n",
    "for i, m in enumerate(maxes):\n",
    "    zero_table = np.zeros(shape=(X.shape[0], m))\n",
    "    zero_table[np.arange(X.shape[0]), X[:,i]-1] = 1\n",
    "    tables.append(zero_table)\n",
    "\n",
    "masterThing = np.concatenate([np.array(table) for table in tables], axis=1)\n",
    "X = X[:,8:]\n",
    "X = np.concatenate((masterThing, X), axis=1)\n",
    "\n",
    "with open('Data_OneHot.pkl', 'wb') as f:\n",
    "    pickle.dump({\"X\":X,\"Y\":Y}, f)\n",
    "\n",
    "print(Y.shape)\n",
    "print(X.shape)"
   ]
  },
  {
   "cell_type": "code",
   "execution_count": null,
   "metadata": {
    "collapsed": true
   },
   "outputs": [],
   "source": []
  }
 ],
 "metadata": {
  "kernelspec": {
   "display_name": "Python 3",
   "language": "python",
   "name": "python3"
  },
  "language_info": {
   "codemirror_mode": {
    "name": "ipython",
    "version": 3
   },
   "file_extension": ".py",
   "mimetype": "text/x-python",
   "name": "python",
   "nbconvert_exporter": "python",
   "pygments_lexer": "ipython3",
   "version": "3.5.2"
  }
 },
 "nbformat": 4,
 "nbformat_minor": 2
}
