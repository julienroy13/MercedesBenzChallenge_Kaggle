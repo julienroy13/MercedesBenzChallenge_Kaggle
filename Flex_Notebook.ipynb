{
 "cells": [
  {
   "cell_type": "code",
   "execution_count": 1,
   "metadata": {
    "collapsed": false
   },
   "outputs": [
    {
     "name": "stderr",
     "output_type": "stream",
     "text": [
      "Using gpu device 0: GeForce GTX 960M (CNMeM is disabled, cuDNN not available)\n"
     ]
    }
   ],
   "source": [
    "%load_ext autoreload\n",
    "%autoreload 2\n",
    "\n",
    "import numpy as np\n",
    "import cPickle as pickle\n",
    "import csv\n",
    "import sys\n",
    "from NN import AutoEncoder as AE "
   ]
  },
  {
   "cell_type": "markdown",
   "metadata": {},
   "source": [
    "### Turn Data into all binary"
   ]
  },
  {
   "cell_type": "code",
   "execution_count": 3,
   "metadata": {
    "collapsed": false
   },
   "outputs": [
    {
     "name": "stdout",
     "output_type": "stream",
     "text": [
      "Y.shape : (4209L,)\n",
      "X.shape : (4209L, 376L)\n"
     ]
    }
   ],
   "source": [
    "with open('Data.pkl', 'rb') as f:\n",
    "            data = pickle.load(f)\n",
    "            X = data['X']\n",
    "            Y = data['Y']\n",
    "\n",
    "print(\"Y.shape : {0}\".format(Y.shape))\n",
    "print(\"X.shape : {0}\".format(X.shape))"
   ]
  },
  {
   "cell_type": "code",
   "execution_count": 4,
   "metadata": {
    "collapsed": false
   },
   "outputs": [
    {
     "name": "stdout",
     "output_type": "stream",
     "text": [
      "[55 28 51  7  4 34 12 25]\n",
      "[1 1 1 1 1 3 1 1]\n"
     ]
    }
   ],
   "source": [
    "maxes = np.max(X, axis = 0)[:8]\n",
    "print maxes\n",
    "\n",
    "mins = np.min(X, axis = 0)[:8]\n",
    "print mins"
   ]
  },
  {
   "cell_type": "code",
   "execution_count": 5,
   "metadata": {
    "collapsed": false
   },
   "outputs": [
    {
     "name": "stdout",
     "output_type": "stream",
     "text": [
      "(4209L, 584L)\n"
     ]
    }
   ],
   "source": [
    "one_hot_tables = []\n",
    "for i,m in enumerate(maxes):\n",
    "    current_table = np.zeros((X.shape[0], m))\n",
    "    \n",
    "    for j in range(X.shape[0]):\n",
    "        current_table[j, X[j,i]-1] = 1.0\n",
    "        \n",
    "    one_hot_tables.append(current_table)\n",
    "one_hot_tables.append(X[:,8:])\n",
    "one_hot_data = np.concatenate(one_hot_tables, axis=1)\n",
    "print one_hot_data.shape"
   ]
  },
  {
   "cell_type": "code",
   "execution_count": 6,
   "metadata": {
    "collapsed": false
   },
   "outputs": [],
   "source": [
    "with open('Data_OneHot.pkl', 'wb') as f:\n",
    "    pickle.dump({\"X\":one_hot_data,\"Y\":Y}, f)"
   ]
  },
  {
   "cell_type": "markdown",
   "metadata": {},
   "source": [
    "## Load Data"
   ]
  },
  {
   "cell_type": "code",
   "execution_count": 66,
   "metadata": {
    "collapsed": false
   },
   "outputs": [
    {
     "name": "stdout",
     "output_type": "stream",
     "text": [
      "X_train shape : (4000L, 584L)\n",
      "Y_train shape : (4000L, 1L)\n",
      "X_valid.shape : (209L, 584L)\n",
      "Y_valid shape : (209L, 1L)\n"
     ]
    }
   ],
   "source": [
    "with open('Data_OneHot.pkl', 'rb') as f:\n",
    "            data = pickle.load(f)\n",
    "            X = data['X']\n",
    "            Y = data['Y']\n",
    "\n",
    "\n",
    "#Shuffle data :\n",
    "data = np.concatenate([Y.reshape((Y.shape[0],1)),X], axis=1)\n",
    "np.random.shuffle(data)\n",
    "\n",
    "Y = data[:,0]\n",
    "Y=Y.reshape((Y.shape[0]),1)\n",
    "X = data[:,1:]\n",
    "\n",
    "x_train = X[:4000,:]\n",
    "y_train = Y[:4000]\n",
    "\n",
    "x_valid = X[4000:,:]\n",
    "y_valid = Y[4000:]\n",
    "\n",
    "\n",
    "print(\"X_train shape : {0}\".format(x_train.shape))\n",
    "print(\"Y_train shape : {0}\".format(y_train.shape))\n",
    "print(\"X_valid.shape : {0}\".format(x_valid.shape))\n",
    "print(\"Y_valid shape : {0}\".format(y_valid.shape))"
   ]
  },
  {
   "cell_type": "markdown",
   "metadata": {},
   "source": [
    "## Auto-encoder"
   ]
  },
  {
   "cell_type": "code",
   "execution_count": 71,
   "metadata": {
    "collapsed": false
   },
   "outputs": [],
   "source": [
    "n_units = [64, 16]\n",
    "ae_non_linearty = 'sigmoid'\n",
    "ae = AE.AutoEncoder(X.shape[1], n_units, ae_non_linearty, learning_rate=0.004, L2=0.001)"
   ]
  },
  {
   "cell_type": "code",
   "execution_count": 72,
   "metadata": {
    "collapsed": false
   },
   "outputs": [
    {
     "name": "stdout",
     "output_type": "stream",
     "text": [
      "Initial valid cost: 146.512833\n",
      "\n",
      "Epoch 0\n",
      "Avg. train cost: 30.216009\n",
      "Avg. valid cost: 29.617865\n",
      "\n",
      "Epoch 10\n",
      "Avg. train cost: 8.809736\n",
      "Avg. valid cost: 10.396852\n",
      "\n",
      "Epoch 20\n",
      "Avg. train cost: 6.973104\n",
      "Avg. valid cost: 9.318824\n",
      "\n",
      "Epoch 30\n",
      "Avg. train cost: 6.443729\n",
      "Avg. valid cost: 9.473703\n",
      "\n",
      "Epoch 34\n",
      "Avg. train cost: 6.306573\n",
      "Avg. valid cost: 9.499455\n",
      "\n",
      "Done\n",
      "Best epoch = 23\n",
      "With train cost = 6.754955\n",
      "With valid cost = 9.313946\n"
     ]
    }
   ],
   "source": [
    "n_samples = x_train.shape[0]\n",
    "n_dims = x_train.shape[1]\n",
    "mb_size = 64\n",
    "nb_iter_epochs = 500\n",
    "max_epochs = 35\n",
    "out_freq = 10\n",
    "best_ae_encoder_states = ae.get_encoder_states()\n",
    "best_valid_score = 1e100\n",
    "\n",
    "train_costs = []\n",
    "valid_costs = []\n",
    "\n",
    "x_rep, x_rec, cst = ae.test(x_valid, x_valid)\n",
    "print \"Initial valid cost: %f\" % cst\n",
    "print\n",
    "\n",
    "for epoch in range(max_epochs):\n",
    "    epoch_train_costs = []\n",
    "    \n",
    "    for it in range(nb_iter_epochs): \n",
    "        rand_indices = np.random.choice(n_samples, mb_size)\n",
    "        mb_x = x_train[rand_indices, :]\n",
    "        x_rep, x_rec, cst = ae.train(mb_x, mb_x)\n",
    "        epoch_train_costs.append(cst)\n",
    "    \n",
    "    train_costs.append(np.mean(epoch_train_costs))\n",
    "    \n",
    "    x_rep, x_rec, cst = ae.test(x_valid, x_valid)\n",
    "    valid_costs.append(cst)\n",
    "    \n",
    "    if cst < best_valid_score:\n",
    "        best_valid_score=cst\n",
    "        best_ae_encoder_states = ae.get_encoder_states()\n",
    "    \n",
    "    if epoch % out_freq == 0:\n",
    "        print \"Epoch %d\" % epoch\n",
    "        print \"Avg. train cost: %f\" % train_costs[-1]\n",
    "        print \"Avg. valid cost: %f\" % valid_costs[-1]\n",
    "        print\n",
    "\n",
    "print \"Epoch %d\" % epoch\n",
    "print \"Avg. train cost: %f\" % train_costs[-1]\n",
    "print \"Avg. valid cost: %f\" % valid_costs[-1]\n",
    "print\n",
    "print \"Done\"\n",
    "print \"Best epoch = %d\" % np.argmin(valid_costs)\n",
    "print \"With train cost = %f\" % train_costs[np.argmin(valid_costs)]\n",
    "print \"With valid cost = %f\" % valid_costs[np.argmin(valid_costs)]"
   ]
  },
  {
   "cell_type": "markdown",
   "metadata": {},
   "source": [
    "### Regressor"
   ]
  },
  {
   "cell_type": "code",
   "execution_count": 77,
   "metadata": {
    "collapsed": false
   },
   "outputs": [],
   "source": [
    "r_units = [32, 16]\n",
    "regressor_non_linearty = 'rectifier'\n",
    "aer = AE.AutoEncoderRegressor(X.shape[1], n_units, r_units, ae_non_linearty, regressor_non_linearty,\n",
    "                              learning_rate=0.004, L2=0.005)\n",
    "\n",
    "#use pre-trained AE :\n",
    "aer.set_encoder_states(best_ae_encoder_states)"
   ]
  },
  {
   "cell_type": "code",
   "execution_count": 79,
   "metadata": {
    "collapsed": false,
    "scrolled": true
   },
   "outputs": [
    {
     "name": "stdout",
     "output_type": "stream",
     "text": [
      "Initial valid cost: 44.803757\n",
      "\n",
      "Epoch 0\n",
      "Avg. train cost: 6.251073\n",
      "Avg. valid cost: 49.004574\n",
      "\n",
      "Epoch 10\n",
      "Avg. train cost: 6.175247\n",
      "Avg. valid cost: 47.205826\n",
      "\n",
      "Epoch 20\n",
      "Avg. train cost: 5.956792\n",
      "Avg. valid cost: 47.554798\n",
      "\n",
      "Epoch 30\n",
      "Avg. train cost: 6.066935\n",
      "Avg. valid cost: 45.903400\n",
      "\n",
      "Epoch 40\n",
      "Avg. train cost: 6.119670\n",
      "Avg. valid cost: 44.293114\n",
      "\n",
      "Epoch 50\n",
      "Avg. train cost: 5.937460\n",
      "Avg. valid cost: 41.971100\n",
      "\n",
      "Epoch 60\n",
      "Avg. train cost: 5.593970\n",
      "Avg. valid cost: 40.896271\n",
      "\n",
      "Epoch 70\n",
      "Avg. train cost: 5.936595\n",
      "Avg. valid cost: 38.857204\n",
      "\n",
      "Epoch 80\n",
      "Avg. train cost: 5.533383\n",
      "Avg. valid cost: 37.910671\n",
      "\n",
      "Epoch 90\n",
      "Avg. train cost: 5.694654\n",
      "Avg. valid cost: 39.418575\n",
      "\n",
      "Epoch 99\n",
      "Avg. train cost: 6.204894\n",
      "Avg. valid cost: 36.989510\n",
      "\n",
      "Done\n",
      "Best epoch = 94\n",
      "With train cost = 5.114531\n",
      "With valid cost = 36.887135\n"
     ]
    }
   ],
   "source": [
    "n_samples = x_train.shape[0]\n",
    "n_dims = x_train.shape[1]\n",
    "mb_size = 64\n",
    "nb_iter_epochs = 500\n",
    "max_epochs = 100\n",
    "out_freq = 10\n",
    "best_valid_score = 1e100\n",
    "recon_ratio = 0.1\n",
    "\n",
    "#We want to monitor REGRESSION cost here.\n",
    "train_costs = []\n",
    "valid_costs = []\n",
    "\n",
    "x_rep, x_rec, ae_cst, regress_cst, cst = aer.train(x_valid, x_valid, y_valid, recon_ratio)\n",
    "print \"Initial valid cost: %f\" % regress_cst\n",
    "print\n",
    "\n",
    "for epoch in range(max_epochs):\n",
    "    epoch_train_costs = []\n",
    "    \n",
    "    for it in range(nb_iter_epochs): \n",
    "        rand_indices = np.random.choice(n_samples, mb_size)\n",
    "        mb_x = x_train[rand_indices, :]\n",
    "        mb_y = y_train[rand_indices, :]\n",
    "        x_rep, x_rec, ae_cst, regress_cst, cst = aer.train(mb_x, mb_x, mb_y, recon_ratio)\n",
    "        epoch_train_costs.append(regress_cst)\n",
    "    \n",
    "    train_costs.append(np.mean(epoch_train_costs))\n",
    "    \n",
    "    x_rep, x_rec, ae_cst, regress_cst, cst = aer.train(x_valid, x_valid, y_valid, recon_ratio)\n",
    "    valid_costs.append(regress_cst)\n",
    "    \n",
    "    if regress_cst < best_valid_score:\n",
    "        best_valid_score=regress_cst\n",
    "        \n",
    "    if epoch % out_freq == 0:\n",
    "        print \"Epoch %d\" % epoch\n",
    "        print \"Avg. train cost: %f\" % train_costs[-1]\n",
    "        print \"Avg. valid cost: %f\" % valid_costs[-1]\n",
    "        print\n",
    "\n",
    "print \"Epoch %d\" % epoch\n",
    "print \"Avg. train cost: %f\" % train_costs[-1]\n",
    "print \"Avg. valid cost: %f\" % valid_costs[-1]\n",
    "print\n",
    "print \"Done\"\n",
    "print \"Best epoch = %d\" % np.argmin(valid_costs)\n",
    "print \"With train cost = %f\" % train_costs[np.argmin(valid_costs)]\n",
    "print \"With valid cost = %f\" % valid_costs[np.argmin(valid_costs)]"
   ]
  },
  {
   "cell_type": "code",
   "execution_count": 38,
   "metadata": {
    "collapsed": true
   },
   "outputs": [],
   "source": [
    "# Some notes...\n",
    "\n",
    "#TODO :\n",
    "# Targets: \n",
    "#   Standardize targets + linear output\n",
    "# Overfitting:\n",
    "#   Try Dropout (we overfit a lot on the regression)\n",
    "#   Try bigger recon_ratio\n",
    "#   Try to add some noise?\n",
    "# Go beyond MLP ?\n",
    "#   Could we do better than let's say this setup+spearmint optimization ?\n",
    "\n",
    "# AE:\n",
    "\n",
    "# n_units = [64, 16], L2=0.001\n",
    "#Best epoch = 23\n",
    "#With train cost = 6.754955\n",
    "#With valid cost = 9.313946\n",
    "\n",
    "\n"
   ]
  },
  {
   "cell_type": "code",
   "execution_count": null,
   "metadata": {
    "collapsed": true
   },
   "outputs": [],
   "source": []
  }
 ],
 "metadata": {
  "kernelspec": {
   "display_name": "Python [Root]",
   "language": "python",
   "name": "Python [Root]"
  },
  "language_info": {
   "codemirror_mode": {
    "name": "ipython",
    "version": 2
   },
   "file_extension": ".py",
   "mimetype": "text/x-python",
   "name": "python",
   "nbconvert_exporter": "python",
   "pygments_lexer": "ipython2",
   "version": "2.7.12"
  },
  "nbpresent": {
   "slides": {},
   "themes": {
    "default": "6b4b2d60-309c-45ef-ba1f-7453d361ceae",
    "theme": {
     "6b4b2d60-309c-45ef-ba1f-7453d361ceae": {
      "backgrounds": {
       "dc7afa04-bf90-40b1-82a5-726e3cff5267": {
        "background-color": "31af15d2-7e15-44c5-ab5e-e04b16a89eff",
        "id": "dc7afa04-bf90-40b1-82a5-726e3cff5267"
       }
      },
      "id": "6b4b2d60-309c-45ef-ba1f-7453d361ceae",
      "palette": {
       "19cc588f-0593-49c9-9f4b-e4d7cc113b1c": {
        "id": "19cc588f-0593-49c9-9f4b-e4d7cc113b1c",
        "rgb": [
         252,
         252,
         252
        ]
       },
       "31af15d2-7e15-44c5-ab5e-e04b16a89eff": {
        "id": "31af15d2-7e15-44c5-ab5e-e04b16a89eff",
        "rgb": [
         68,
         68,
         68
        ]
       },
       "50f92c45-a630-455b-aec3-788680ec7410": {
        "id": "50f92c45-a630-455b-aec3-788680ec7410",
        "rgb": [
         197,
         226,
         245
        ]
       },
       "c5cc3653-2ee1-402a-aba2-7caae1da4f6c": {
        "id": "c5cc3653-2ee1-402a-aba2-7caae1da4f6c",
        "rgb": [
         43,
         126,
         184
        ]
       },
       "efa7f048-9acb-414c-8b04-a26811511a21": {
        "id": "efa7f048-9acb-414c-8b04-a26811511a21",
        "rgb": [
         25.118061674008803,
         73.60176211453744,
         107.4819383259912
        ]
       }
      },
      "rules": {
       "a": {
        "color": "19cc588f-0593-49c9-9f4b-e4d7cc113b1c"
       },
       "blockquote": {
        "color": "50f92c45-a630-455b-aec3-788680ec7410",
        "font-size": 3
       },
       "code": {
        "font-family": "Anonymous Pro"
       },
       "h1": {
        "color": "19cc588f-0593-49c9-9f4b-e4d7cc113b1c",
        "font-family": "Merriweather",
        "font-size": 8
       },
       "h2": {
        "color": "19cc588f-0593-49c9-9f4b-e4d7cc113b1c",
        "font-family": "Merriweather",
        "font-size": 6
       },
       "h3": {
        "color": "50f92c45-a630-455b-aec3-788680ec7410",
        "font-family": "Lato",
        "font-size": 5.5
       },
       "h4": {
        "color": "c5cc3653-2ee1-402a-aba2-7caae1da4f6c",
        "font-family": "Lato",
        "font-size": 5
       },
       "h5": {
        "font-family": "Lato"
       },
       "h6": {
        "font-family": "Lato"
       },
       "h7": {
        "font-family": "Lato"
       },
       "li": {
        "color": "50f92c45-a630-455b-aec3-788680ec7410",
        "font-size": 3.25
       },
       "pre": {
        "font-family": "Anonymous Pro",
        "font-size": 4
       }
      },
      "text-base": {
       "color": "19cc588f-0593-49c9-9f4b-e4d7cc113b1c",
       "font-family": "Lato",
       "font-size": 4
      }
     },
     "c6aafa87-2711-42d4-b629-346b1e7e1374": {
      "id": "c6aafa87-2711-42d4-b629-346b1e7e1374",
      "palette": {
       "19cc588f-0593-49c9-9f4b-e4d7cc113b1c": {
        "id": "19cc588f-0593-49c9-9f4b-e4d7cc113b1c",
        "rgb": [
         252,
         252,
         252
        ]
       },
       "31af15d2-7e15-44c5-ab5e-e04b16a89eff": {
        "id": "31af15d2-7e15-44c5-ab5e-e04b16a89eff",
        "rgb": [
         68,
         68,
         68
        ]
       },
       "50f92c45-a630-455b-aec3-788680ec7410": {
        "id": "50f92c45-a630-455b-aec3-788680ec7410",
        "rgb": [
         155,
         177,
         192
        ]
       },
       "c5cc3653-2ee1-402a-aba2-7caae1da4f6c": {
        "id": "c5cc3653-2ee1-402a-aba2-7caae1da4f6c",
        "rgb": [
         43,
         126,
         184
        ]
       },
       "efa7f048-9acb-414c-8b04-a26811511a21": {
        "id": "efa7f048-9acb-414c-8b04-a26811511a21",
        "rgb": [
         25.118061674008803,
         73.60176211453744,
         107.4819383259912
        ]
       }
      },
      "rules": {
       "blockquote": {
        "color": "50f92c45-a630-455b-aec3-788680ec7410"
       },
       "code": {
        "font-family": "Anonymous Pro"
       },
       "h1": {
        "color": "c5cc3653-2ee1-402a-aba2-7caae1da4f6c",
        "font-family": "Lato",
        "font-size": 8
       },
       "h2": {
        "color": "c5cc3653-2ee1-402a-aba2-7caae1da4f6c",
        "font-family": "Lato",
        "font-size": 6
       },
       "h3": {
        "color": "50f92c45-a630-455b-aec3-788680ec7410",
        "font-family": "Lato",
        "font-size": 5.5
       },
       "h4": {
        "color": "c5cc3653-2ee1-402a-aba2-7caae1da4f6c",
        "font-family": "Lato",
        "font-size": 5
       },
       "h5": {
        "font-family": "Lato"
       },
       "h6": {
        "font-family": "Lato"
       },
       "h7": {
        "font-family": "Lato"
       },
       "pre": {
        "font-family": "Anonymous Pro",
        "font-size": 4
       }
      },
      "text-base": {
       "font-family": "Merriweather",
       "font-size": 4
      }
     }
    }
   }
  }
 },
 "nbformat": 4,
 "nbformat_minor": 0
}
