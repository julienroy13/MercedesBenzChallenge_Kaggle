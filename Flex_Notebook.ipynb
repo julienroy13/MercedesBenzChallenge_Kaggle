{
 "cells": [
  {
   "cell_type": "code",
   "execution_count": 1,
   "metadata": {
    "collapsed": false
   },
   "outputs": [
    {
     "name": "stderr",
     "output_type": "stream",
     "text": [
      "WARNING (theano.sandbox.cuda): CUDA is installed, but device gpu0 is not available  (error: Unable to get the number of gpus available: no CUDA-capable device is detected)\n"
     ]
    }
   ],
   "source": [
    "%load_ext autoreload\n",
    "%autoreload 2\n",
    "\n",
    "import numpy as np\n",
    "import cPickle as pickle\n",
    "import csv\n",
    "import sys\n",
    "from NN import AutoEncoder as AE "
   ]
  },
  {
   "cell_type": "markdown",
   "metadata": {},
   "source": [
    "### Turn Data into all binary"
   ]
  },
  {
   "cell_type": "code",
   "execution_count": 63,
   "metadata": {
    "collapsed": false
   },
   "outputs": [
    {
     "name": "stdout",
     "output_type": "stream",
     "text": [
      "Y.shape : (4209L,)\n",
      "X.shape : (4209L, 376L)\n"
     ]
    }
   ],
   "source": [
    "with open('Data.pkl', 'rb') as f:\n",
    "            data = pickle.load(f)\n",
    "            X = data['X']\n",
    "            Y = data['Y']\n",
    "\n",
    "print(\"Y.shape : {0}\".format(Y.shape))\n",
    "print(\"X.shape : {0}\".format(X.shape))"
   ]
  },
  {
   "cell_type": "code",
   "execution_count": 64,
   "metadata": {
    "collapsed": false
   },
   "outputs": [
    {
     "name": "stdout",
     "output_type": "stream",
     "text": [
      "[55 28 51  7  4 34 12 25]\n",
      "[1 1 1 1 1 3 1 1]\n"
     ]
    }
   ],
   "source": [
    "maxes = np.max(X, axis = 0)[:8]\n",
    "print maxes\n",
    "\n",
    "mins = np.min(X, axis = 0)[:8]\n",
    "print mins"
   ]
  },
  {
   "cell_type": "code",
   "execution_count": 65,
   "metadata": {
    "collapsed": false
   },
   "outputs": [
    {
     "name": "stdout",
     "output_type": "stream",
     "text": [
      "(4209L, 584L)\n"
     ]
    }
   ],
   "source": [
    "one_hot_tables = []\n",
    "for i,m in enumerate(maxes):\n",
    "    current_table = np.zeros((X.shape[0], m))\n",
    "    \n",
    "    for j in range(X.shape[0]):\n",
    "        current_table[j, X[j,i]-1] = 1.0\n",
    "        \n",
    "    one_hot_tables.append(current_table)\n",
    "one_hot_tables.append(X[:,8:])\n",
    "one_hot_data = np.concatenate(one_hot_tables, axis=1)\n",
    "print one_hot_data.shape"
   ]
  },
  {
   "cell_type": "code",
   "execution_count": 66,
   "metadata": {
    "collapsed": false
   },
   "outputs": [],
   "source": [
    "with open('Data_OneHot.pkl', 'wb') as f:\n",
    "    pickle.dump({\"X\":one_hot_data,\"Y\":Y}, f)"
   ]
  },
  {
   "cell_type": "markdown",
   "metadata": {},
   "source": [
    "## Load Data"
   ]
  },
  {
   "cell_type": "code",
   "execution_count": 2,
   "metadata": {
    "collapsed": false
   },
   "outputs": [
    {
     "name": "stdout",
     "output_type": "stream",
     "text": [
      "Y.shape : (4209L,)\n",
      "X.shape : (4209L, 584L)\n"
     ]
    }
   ],
   "source": [
    "with open('Data_OneHot.pkl', 'rb') as f:\n",
    "            data = pickle.load(f)\n",
    "            X = data['X']\n",
    "            Y = data['Y']\n",
    "\n",
    "print(\"Y.shape : {0}\".format(Y.shape))\n",
    "print(\"X.shape : {0}\".format(X.shape))"
   ]
  },
  {
   "cell_type": "markdown",
   "metadata": {},
   "source": [
    "## Build a network"
   ]
  },
  {
   "cell_type": "code",
   "execution_count": 10,
   "metadata": {
    "collapsed": false
   },
   "outputs": [],
   "source": [
    "n_units = [512, 256, 128, 64]\n",
    "ae = AE.AutoEncoder(X.shape[1], n_units, 'sigmoid', learning_rate=0.0002)"
   ]
  },
  {
   "cell_type": "code",
   "execution_count": 15,
   "metadata": {
    "collapsed": false
   },
   "outputs": [
    {
     "name": "stdout",
     "output_type": "stream",
     "text": [
      "62.213924408\n",
      "62.4631996155\n",
      "55.3606414795\n",
      "59.161857605\n",
      "58.8021621704\n",
      "56.5605773926\n",
      "60.6081047058\n",
      "57.4809112549\n",
      "59.0293464661\n",
      "59.4935112\n",
      "55.6687164307\n",
      "90.3527832031\n",
      "59.3392715454\n",
      "57.884475708\n",
      "60.0086975098\n",
      "59.7328987122\n",
      "59.5267677307\n",
      "68.4568328857\n",
      "63.5647659302\n",
      "63.0620765686\n",
      "60.0501480103\n",
      "70.2664031982\n",
      "66.4046936035\n",
      "55.0749320984\n",
      "69.1269378662\n",
      "57.0651092529\n",
      "57.4345321655\n",
      "56.1497077942\n",
      "69.7478942871\n",
      "65.9718017578\n",
      "61.7671508789\n",
      "64.4552688599\n",
      "60.3196983337\n",
      "65.1385116577\n",
      "64.267578125\n",
      "70.5400543213\n",
      "59.8220214844\n",
      "67.3861083984\n",
      "58.2178230286\n",
      "61.1748657227\n",
      "67.0887756348\n",
      "62.8394317627\n",
      "62.1340179443\n",
      "58.6757049561\n",
      "72.8532180786\n",
      "64.2037353516\n",
      "66.6256027222\n",
      "58.3846054077\n",
      "55.6196212769\n",
      "65.4547195435\n",
      "57.1180076599\n",
      "60.3006896973\n",
      "60.0778312683\n",
      "57.0630950928\n",
      "58.0453567505\n",
      "57.5043258667\n",
      "58.46068573\n",
      "59.7564239502\n",
      "67.4600601196\n",
      "57.3896331787\n",
      "64.5795288086\n",
      "58.8606796265\n",
      "57.6873016357\n",
      "62.6528167725\n",
      "57.6320724487\n",
      "53.7711257935\n",
      "65.7383041382\n",
      "59.8768539429\n",
      "57.4339141846\n",
      "55.3732528687\n",
      "65.736618042\n",
      "69.4701843262\n",
      "59.5440979004\n",
      "62.1486740112\n",
      "60.8160400391\n",
      "69.9381103516\n",
      "58.7628898621\n",
      "59.0666351318\n",
      "53.6185836792\n",
      "60.1504211426\n",
      "62.4678878784\n",
      "56.5009841919\n",
      "58.1840744019\n",
      "58.969581604\n",
      "59.1259918213\n",
      "66.4553070068\n",
      "58.4335861206\n",
      "56.0468215942\n",
      "55.0857505798\n",
      "54.5048789978\n",
      "57.3255500793\n",
      "59.4304771423\n",
      "58.9063262939\n",
      "59.3286247253\n",
      "65.9878997803\n",
      "56.658531189\n",
      "58.9263267517\n",
      "60.3506393433\n",
      "59.4686584473\n",
      "57.1941757202\n",
      "59.6328697205\n",
      "57.5484161377\n",
      "67.0891876221\n",
      "63.4155273438\n",
      "54.9628982544\n",
      "63.2373504639\n",
      "61.573223114\n",
      "55.7204971313\n",
      "57.4777526855\n",
      "63.6506500244\n",
      "57.6073074341\n",
      "62.0651626587\n",
      "56.7366371155\n",
      "56.1388320923\n",
      "58.861579895\n",
      "57.3526802063\n",
      "60.7790794373\n",
      "66.6256332397\n",
      "62.0179214478\n",
      "57.0315208435\n",
      "54.9024848938\n",
      "56.3648071289\n",
      "62.5826721191\n",
      "61.3474960327\n",
      "59.2243881226\n",
      "59.458946228\n",
      "75.1218490601\n",
      "67.9788208008\n",
      "57.1942062378\n",
      "57.8448448181\n",
      "56.7920150757\n",
      "62.0520362854\n",
      "59.2382850647\n",
      "57.8905334473\n",
      "62.6203460693\n",
      "70.3063201904\n",
      "59.7215309143\n",
      "57.2324180603\n",
      "75.92578125\n",
      "55.71509552\n",
      "55.473575592\n",
      "57.6690673828\n",
      "53.7968406677\n",
      "55.8131370544\n",
      "57.7678833008\n",
      "60.9658813477\n",
      "62.0432739258\n",
      "58.1309814453\n",
      "59.1302909851\n",
      "61.9144821167\n",
      "71.3548278809\n",
      "78.9361419678\n",
      "55.6309394836\n",
      "59.9818267822\n",
      "57.1995353699\n",
      "69.2837982178\n",
      "70.025970459\n",
      "58.8879165649\n",
      "61.2962684631\n",
      "55.7620124817\n",
      "63.8517837524\n",
      "59.4867019653\n",
      "62.5585784912\n",
      "78.1595077515\n",
      "64.7734527588\n",
      "57.8427352905\n",
      "65.345413208\n",
      "60.935295105\n",
      "58.8778915405\n",
      "57.5626983643\n",
      "64.7001647949\n",
      "58.1239242554\n",
      "59.0229949951\n",
      "62.8620910645\n",
      "55.8859939575\n",
      "62.7494659424\n",
      "55.0520553589\n",
      "60.4677124023\n",
      "54.259601593\n",
      "67.842628479\n",
      "61.1759681702\n",
      "57.849395752\n",
      "67.4465179443\n",
      "60.3959274292\n",
      "61.6512069702\n",
      "55.5827026367\n",
      "72.3008575439\n",
      "59.7123031616\n",
      "55.5217704773\n",
      "66.8891372681\n",
      "57.6469497681\n",
      "61.2531089783\n",
      "67.1008300781\n",
      "54.8724708557\n",
      "68.3632354736\n",
      "65.5249328613\n",
      "71.5125427246\n",
      "62.7825241089\n",
      "56.6290512085\n",
      "55.6529006958\n"
     ]
    }
   ],
   "source": [
    "n_samples = X.shape[0]\n",
    "n_dims = X.shape[1]\n",
    "mb_size = 2\n",
    "nb_iter = 200\n",
    "\n",
    "for i in range(nb_iter):\n",
    "    rand_indices = np.random.choice(n_samples, mb_size)\n",
    "    mb_x = X[rand_indices, :]\n",
    "    \n",
    "    x_rep, x_rec, cst = ae.train(mb_x, mb_x)\n",
    "    print cst"
   ]
  },
  {
   "cell_type": "code",
   "execution_count": null,
   "metadata": {
    "collapsed": true
   },
   "outputs": [],
   "source": []
  }
 ],
 "metadata": {
  "kernelspec": {
   "display_name": "Python [Root]",
   "language": "python",
   "name": "Python [Root]"
  },
  "language_info": {
   "codemirror_mode": {
    "name": "ipython",
    "version": 2
   },
   "file_extension": ".py",
   "mimetype": "text/x-python",
   "name": "python",
   "nbconvert_exporter": "python",
   "pygments_lexer": "ipython2",
   "version": "2.7.12"
  },
  "nbpresent": {
   "slides": {},
   "themes": {
    "default": "6b4b2d60-309c-45ef-ba1f-7453d361ceae",
    "theme": {
     "6b4b2d60-309c-45ef-ba1f-7453d361ceae": {
      "backgrounds": {
       "dc7afa04-bf90-40b1-82a5-726e3cff5267": {
        "background-color": "31af15d2-7e15-44c5-ab5e-e04b16a89eff",
        "id": "dc7afa04-bf90-40b1-82a5-726e3cff5267"
       }
      },
      "id": "6b4b2d60-309c-45ef-ba1f-7453d361ceae",
      "palette": {
       "19cc588f-0593-49c9-9f4b-e4d7cc113b1c": {
        "id": "19cc588f-0593-49c9-9f4b-e4d7cc113b1c",
        "rgb": [
         252,
         252,
         252
        ]
       },
       "31af15d2-7e15-44c5-ab5e-e04b16a89eff": {
        "id": "31af15d2-7e15-44c5-ab5e-e04b16a89eff",
        "rgb": [
         68,
         68,
         68
        ]
       },
       "50f92c45-a630-455b-aec3-788680ec7410": {
        "id": "50f92c45-a630-455b-aec3-788680ec7410",
        "rgb": [
         197,
         226,
         245
        ]
       },
       "c5cc3653-2ee1-402a-aba2-7caae1da4f6c": {
        "id": "c5cc3653-2ee1-402a-aba2-7caae1da4f6c",
        "rgb": [
         43,
         126,
         184
        ]
       },
       "efa7f048-9acb-414c-8b04-a26811511a21": {
        "id": "efa7f048-9acb-414c-8b04-a26811511a21",
        "rgb": [
         25.118061674008803,
         73.60176211453744,
         107.4819383259912
        ]
       }
      },
      "rules": {
       "a": {
        "color": "19cc588f-0593-49c9-9f4b-e4d7cc113b1c"
       },
       "blockquote": {
        "color": "50f92c45-a630-455b-aec3-788680ec7410",
        "font-size": 3
       },
       "code": {
        "font-family": "Anonymous Pro"
       },
       "h1": {
        "color": "19cc588f-0593-49c9-9f4b-e4d7cc113b1c",
        "font-family": "Merriweather",
        "font-size": 8
       },
       "h2": {
        "color": "19cc588f-0593-49c9-9f4b-e4d7cc113b1c",
        "font-family": "Merriweather",
        "font-size": 6
       },
       "h3": {
        "color": "50f92c45-a630-455b-aec3-788680ec7410",
        "font-family": "Lato",
        "font-size": 5.5
       },
       "h4": {
        "color": "c5cc3653-2ee1-402a-aba2-7caae1da4f6c",
        "font-family": "Lato",
        "font-size": 5
       },
       "h5": {
        "font-family": "Lato"
       },
       "h6": {
        "font-family": "Lato"
       },
       "h7": {
        "font-family": "Lato"
       },
       "li": {
        "color": "50f92c45-a630-455b-aec3-788680ec7410",
        "font-size": 3.25
       },
       "pre": {
        "font-family": "Anonymous Pro",
        "font-size": 4
       }
      },
      "text-base": {
       "color": "19cc588f-0593-49c9-9f4b-e4d7cc113b1c",
       "font-family": "Lato",
       "font-size": 4
      }
     },
     "c6aafa87-2711-42d4-b629-346b1e7e1374": {
      "id": "c6aafa87-2711-42d4-b629-346b1e7e1374",
      "palette": {
       "19cc588f-0593-49c9-9f4b-e4d7cc113b1c": {
        "id": "19cc588f-0593-49c9-9f4b-e4d7cc113b1c",
        "rgb": [
         252,
         252,
         252
        ]
       },
       "31af15d2-7e15-44c5-ab5e-e04b16a89eff": {
        "id": "31af15d2-7e15-44c5-ab5e-e04b16a89eff",
        "rgb": [
         68,
         68,
         68
        ]
       },
       "50f92c45-a630-455b-aec3-788680ec7410": {
        "id": "50f92c45-a630-455b-aec3-788680ec7410",
        "rgb": [
         155,
         177,
         192
        ]
       },
       "c5cc3653-2ee1-402a-aba2-7caae1da4f6c": {
        "id": "c5cc3653-2ee1-402a-aba2-7caae1da4f6c",
        "rgb": [
         43,
         126,
         184
        ]
       },
       "efa7f048-9acb-414c-8b04-a26811511a21": {
        "id": "efa7f048-9acb-414c-8b04-a26811511a21",
        "rgb": [
         25.118061674008803,
         73.60176211453744,
         107.4819383259912
        ]
       }
      },
      "rules": {
       "blockquote": {
        "color": "50f92c45-a630-455b-aec3-788680ec7410"
       },
       "code": {
        "font-family": "Anonymous Pro"
       },
       "h1": {
        "color": "c5cc3653-2ee1-402a-aba2-7caae1da4f6c",
        "font-family": "Lato",
        "font-size": 8
       },
       "h2": {
        "color": "c5cc3653-2ee1-402a-aba2-7caae1da4f6c",
        "font-family": "Lato",
        "font-size": 6
       },
       "h3": {
        "color": "50f92c45-a630-455b-aec3-788680ec7410",
        "font-family": "Lato",
        "font-size": 5.5
       },
       "h4": {
        "color": "c5cc3653-2ee1-402a-aba2-7caae1da4f6c",
        "font-family": "Lato",
        "font-size": 5
       },
       "h5": {
        "font-family": "Lato"
       },
       "h6": {
        "font-family": "Lato"
       },
       "h7": {
        "font-family": "Lato"
       },
       "pre": {
        "font-family": "Anonymous Pro",
        "font-size": 4
       }
      },
      "text-base": {
       "font-family": "Merriweather",
       "font-size": 4
      }
     }
    }
   }
  }
 },
 "nbformat": 4,
 "nbformat_minor": 0
}
